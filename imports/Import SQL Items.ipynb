{
 "cells": [
  {
   "cell_type": "code",
   "execution_count": 1,
   "metadata": {},
   "outputs": [],
   "source": [
    "import pyodbc, json, requests, random\n",
    "from time import sleep\n",
    "from io import StringIO\n",
    "from random import randint\n",
    "from random import randrange\n",
    "from html.parser import HTMLParser\n",
    "from faker import Faker"
   ]
  },
  {
   "cell_type": "code",
   "execution_count": 2,
   "metadata": {},
   "outputs": [],
   "source": [
    "server = 'iproject3.icasites.nl' \n",
    "database = 'iproject3' \n",
    "username = 'iproject3' \n",
    "password = 'aeedZ8u8'"
   ]
  },
  {
   "cell_type": "code",
   "execution_count": 3,
   "metadata": {},
   "outputs": [],
   "source": [
    "def addRowToFile(text):\n",
    "    f = open(\"NotAdded.txt\", \"a\")\n",
    "    f.write(text + \"\\n\")\n",
    "    f.close()\n",
    "    return"
   ]
  },
  {
   "cell_type": "code",
   "execution_count": 4,
   "metadata": {},
   "outputs": [],
   "source": [
    "def makeConnection():\n",
    "    cnxn = pyodbc.connect('DRIVER={ODBC Driver 17 for SQL Server};SERVER='+server+';DATABASE='+database+';UID='+username+';PWD='+ password)\n",
    "    cursor = cnxn.cursor() \n",
    "    return cursor"
   ]
  },
  {
   "cell_type": "code",
   "execution_count": 5,
   "metadata": {},
   "outputs": [],
   "source": [
    "def closeConnection(cursor):\n",
    "    cursor.close()\n",
    "    return"
   ]
  },
  {
   "cell_type": "code",
   "execution_count": 6,
   "metadata": {},
   "outputs": [],
   "source": [
    "def doSelectQuery(sql, cursor):\n",
    "    cursor.execute(sql)\n",
    "    return cursor.fetchall()"
   ]
  },
  {
   "cell_type": "code",
   "execution_count": 7,
   "metadata": {},
   "outputs": [],
   "source": [
    "def doInsertQuery(sql, cursor):\n",
    "    cursor.execute(sql)\n",
    "    cursor.commit()\n",
    "    return"
   ]
  },
  {
   "cell_type": "code",
   "execution_count": 8,
   "metadata": {},
   "outputs": [],
   "source": [
    "def doInsertQueryAndGetID(sql, cursor):\n",
    "    cursor.execute(sql)\n",
    "    ID = cursor.fetchone()[0]\n",
    "    cursor.commit()\n",
    "    return ID"
   ]
  },
  {
   "cell_type": "code",
   "execution_count": 9,
   "metadata": {},
   "outputs": [],
   "source": [
    "def loadSQLFile(path):\n",
    "    fd = open(path, 'r', encoding='utf8')\n",
    "    sqlFile = fd.read()\n",
    "    fd.close()\n",
    "    sqlFileArray = sqlFile.splitlines()\n",
    "    return sqlFileArray"
   ]
  },
  {
   "cell_type": "code",
   "execution_count": 10,
   "metadata": {},
   "outputs": [],
   "source": [
    "class MLStripper(HTMLParser):\n",
    "    def __init__(self):\n",
    "        super().__init__()\n",
    "        self.reset()\n",
    "        self.strict = False\n",
    "        self.convert_charrefs= True\n",
    "        self.text = StringIO()\n",
    "    def handle_data(self, d):\n",
    "        self.text.write(d)\n",
    "    def get_data(self):\n",
    "        return self.text.getvalue()\n",
    "\n",
    "def strip_tags(html):\n",
    "    s = MLStripper()\n",
    "    s.feed(html)\n",
    "    return s.get_data()"
   ]
  },
  {
   "cell_type": "code",
   "execution_count": 31,
   "metadata": {},
   "outputs": [],
   "source": [
    "def getDescription(line):\n",
    "    try:\n",
    "        stripChar = \"<\"\n",
    "        line = line.replace(\"INSERT Items(ID,Titel,Categorie,Postcode,Locatie,Land,Verkoper,Prijs,Valuta,Conditie,Thumbnail,Beschrijving) VALUES \", \"\")\n",
    "        line = line[line.index(stripChar) + len(stripChar)- 1:]\n",
    "        line = strip_tags(line)\n",
    "        if line.endswith(\"')\"):\n",
    "            line = line[:-2]\n",
    "        return line\n",
    "    except Exception as e:\n",
    "        print(e)\n",
    "        pass\n",
    "        return \"\""
   ]
  },
  {
   "cell_type": "code",
   "execution_count": 12,
   "metadata": {},
   "outputs": [],
   "source": [
    "def getCountryIDByCode(code, cursor):\n",
    "    sql = \"SELECT * FROM Country WHERE CountryCode = '\" + str(code.replace(\" \", \"\")) + \"'\"\n",
    "    result = doSelectQuery(sql, cursor)\n",
    "    return result[0][0]"
   ]
  },
  {
   "cell_type": "code",
   "execution_count": 13,
   "metadata": {},
   "outputs": [],
   "source": [
    "def searchForConditionOrCreate(condition, cursor):\n",
    "    \n",
    "    sql = \"SELECT * FROM Condition WHERE Name = '\" + str(condition).replace(\" \", \"\") + \"'\"\n",
    "    result = doSelectQuery(sql, cursor)\n",
    "    \n",
    "    if(result):\n",
    "        return result[0][0]\n",
    "    else:\n",
    "        sql = \"INSERT INTO Condition (Name) OUTPUT INSERTED.ID VALUES ('\" + str(condition).replace(\" \", \"\") + \"')\"\n",
    "        result = doInsertQueryAndGetID(sql, cursor)\n",
    "        return result"
   ]
  },
  {
   "cell_type": "code",
   "execution_count": 14,
   "metadata": {},
   "outputs": [],
   "source": [
    "def generateCard(type):\n",
    "    \"\"\"\n",
    "    Prefill some values based on the card type\n",
    "    \"\"\"\n",
    "    card_types = [\"americanexpress\",\"visa13\", \"visa16\",\"mastercard\",\"discover\"]\n",
    "\n",
    "    def prefill(t):\n",
    "        # typical number of digits in credit card\n",
    "        def_length = 16\n",
    "\n",
    "        \"\"\"\n",
    "        Prefill with initial numbers and return it including the total number of digits\n",
    "        remaining to fill\n",
    "        \"\"\"\n",
    "        if t == card_types[0]:\n",
    "            # american express starts with 3 and is 15 digits long\n",
    "            # override the def lengths\n",
    "            return [3, randint(4,7)], 13\n",
    "\n",
    "        elif t == card_types[1] or t == card_types[2]:\n",
    "            # visa starts with 4\n",
    "            if t.endswith(\"16\"):\n",
    "                return [4], def_length - 1\n",
    "            else:\n",
    "                return [4], 12\n",
    "\n",
    "        elif t == card_types[3]:\n",
    "            # master card start with 5 and is 16 digits long\n",
    "            return [5, randint(1,5)], def_length - 2\n",
    "\n",
    "        elif t == card_types[4]:\n",
    "            # discover card starts with 6011 and is 16 digits long\n",
    "            return [6, 0, 1, 1], def_length - 4\n",
    "\n",
    "        else:\n",
    "            # this section probably not even needed here\n",
    "            return [], def_length\n",
    "\n",
    "    def finalize(nums):\n",
    "        \"\"\"\n",
    "        Make the current generated list pass the Luhn check by checking and adding\n",
    "        the last digit appropriately bia calculating the check sum\n",
    "        \"\"\"\n",
    "        check_sum = 0\n",
    "\n",
    "        #is_even = True if (len(nums) + 1 % 2) == 0 else False\n",
    "\n",
    "        \"\"\"\n",
    "        Reason for this check offset is to figure out whether the final list is going\n",
    "        to be even or odd which will affect calculating the check_sum.\n",
    "        This is mainly also to avoid reversing the list back and forth which is specified\n",
    "        on the Luhn algorithm.\n",
    "        \"\"\"\n",
    "        check_offset = (len(nums) + 1) % 2\n",
    "\n",
    "        for i, n in enumerate(nums):\n",
    "            if (i + check_offset) % 2 == 0:\n",
    "                n_ = n*2\n",
    "                check_sum += n_ -9 if n_ > 9 else n_\n",
    "            else:\n",
    "                check_sum += n\n",
    "        return nums + [10 - (check_sum % 10) ]\n",
    "\n",
    "    # main body\n",
    "    t = type.lower()\n",
    "    if t not in card_types:\n",
    "        return\n",
    "\n",
    "    initial, rem = prefill(t)\n",
    "    so_far = initial + [randint(1,9) for x in range(rem - 1)]\n",
    "    #print (\"\".join(map(str,finalize(so_far))))\n",
    "    return \"\".join(map(str,finalize(so_far)))\n"
   ]
  },
  {
   "cell_type": "code",
   "execution_count": 15,
   "metadata": {},
   "outputs": [],
   "source": [
    "def getSellerIDByUsername(username, cursor, registerSeller):\n",
    "    sql = \"SELECT * FROM Account WHERE Username = '\" + str(username.replace(\" \", \"\")) + \"'\"\n",
    "    result = doSelectQuery(sql, cursor)\n",
    "    if(registerSeller == True):\n",
    "        registerAsSellerByAccountID(result[0][0], cursor)\n",
    "    return result[0][0]"
   ]
  },
  {
   "cell_type": "code",
   "execution_count": 16,
   "metadata": {},
   "outputs": [],
   "source": [
    "def registerAsSellerByAccountID(ID, cursor):\n",
    "    try: \n",
    "        mastercardPrefixList = [['5', '1'], ['5', '2'], ['5', '3'], ['5', '4'], ['5', '5']]\n",
    "        DutchBanken = [\"ABN Amro\", \"ASN Bank\", \"Bunq\", \"DHB Bank\", \"ING Bank\", \"Knab\", \"Rabobank\", \"SNS Bank\", \"Triodos Bank\"]\n",
    "        BillingNumbers = [\"NL59INGB3034565194\",\"NL91INGB6971032004\",\"NL13INGB2327776783\",\"NL24ABNA8502137913\",\"NL79ABNA6502761380\",\"NL95RABO2560035731\",\"NL06ABNA8009649546\",\"NL51ABNA7103072574\",\"NL92RABO7939901389\",\"NL83INGB2786219639\",\"NL35ABNA9732254661\",\"NL16RABO8611765885\",\"NL36RABO6008851617\",\"NL12RABO2952671982\",\"NL28INGB6291533782\",\"NL63INGB3779588560\",\"NL46RABO7116259503\",\"NL63RABO4760808973\",\"NL51ABNA5993159871\",\"NL98ABNA1438227787\",\"NL68RABO3031628489\",\"NL22INGB9565235778\",\"NL82ABNA2187209016\",\"NL93RABO5040995164\",\"NL26INGB4871952010\",\"NL89ABNA3034565194\",\"NL41INGB8683750361\",\"NL89INGB6034837898\",\"NL13ABNA7569006453\",\"NL89ABNA9906008334\",\"NL36ABNA8694866803\",\"NL65RABO7440639480\",\"NL73INGB6143727961\",\"NL82INGB4197809344\",\"NL71RABO7659536168\",\"NL98ABNA9442141368\",\"NL66RABO6971032004\",\"NL58RABO6583086565\",\"NL27INGB5647918042\",\"NL62INGB2067756052\",\"NL32ABNA3146454459\",\"NL18RABO8253182457\",\"NL96INGB8720446314\",\"NL89ABNA3309755649\",\"NL40ABNA9859479577\",\"NL66INGB9224568173\",\"NL76RABO8675663943\",\"NL34INGB4520711568\"]\n",
    "        Bankname = random.choice(DutchBanken)\n",
    "        BankAccountNumber = random.choice(BillingNumbers)\n",
    "        ControlOptionName = \"Creditcard\"\n",
    "        CreditcardNumber = generateCard(\"mastercard\")\n",
    "\n",
    "        sql = \"INSERT INTO Seller (AccountID, Bankname, BankAccountNumber, CreditcardNumber, ControlOptionName) VALUES ('\"+str(ID)+\"', '\"+str(Bankname)+\"', '\"+str(BankAccountNumber)+\"', '\"+str(CreditcardNumber)+\"', '\"+str(ControlOptionName)+\"')\"\n",
    "\n",
    "        doInsertQuery(sql, cursor)\n",
    "    except Exception as e:\n",
    "        if(\"[23000] [Microsoft][ODBC Driver 17 for SQL Server][SQL Server]\" not in str(e)):\n",
    "            addRowToFile(\"[ERROR] Fout bij het aanmaken van SellerID: \" + str(ID))   \n",
    "        pass"
   ]
  },
  {
   "cell_type": "code",
   "execution_count": 17,
   "metadata": {},
   "outputs": [],
   "source": [
    "def genereteRandomAuctionDates():\n",
    "    fake = Faker()\n",
    "    \n",
    "    begindate = fake.date_time_between(start_date='-'+ str(random.randint(0, 20)) +'d', end_date='now')\n",
    "    enddate = fake.date_time_between(start_date=begindate, end_date='+'+ str(random.randint(0, 80)) +'d')\n",
    "\n",
    "    return begindate.strftime(\"%Y-%m-%d  %H:%M:%S.000\"), enddate.strftime(\"%Y-%m-%d  %H:%M:%S.000\")"
   ]
  },
  {
   "cell_type": "code",
   "execution_count": 24,
   "metadata": {},
   "outputs": [],
   "source": [
    "def getItemQuery(line, description, cursor):\n",
    "    \n",
    "    paymentMethodsArray = [\"Contant\", \"Cash\", \"Bank\", \"Giro\", \"Tikkie\", \"Bank/Giro\", \"Contant, Bank, Giro\"]\n",
    "    paymentInstructionsArray = [\"Overschrijving moet ontvangen zijn binnen 10 dagen na verkoop.\", \"Het liefst alleen contant betalebn!\", \"Bied maar een leuk bedrag en dan mag je hem ophalen volgende de betaal methoden. Bij Contant kun je hem afhalen\", \"Payment only through Bank\", \"Only cash payment are allowed\"]\n",
    "    shippingCostsArray = [\"1.95\",\"2.95\",\"3.95\",\"4.95\",\"5.95\",\"6.95\",\"7.95\",\"8.95\",\"9.95\",\"10.95\",\"11.95\",\"12.95\", \"\"]\n",
    "    sendInstructionsArray = [\"Liever alleen verzenden vanwege COVID-19\", \"Liever alleen verzenden vanwege Corona Virus\", \"Graag verzenden omdat ik van me dozen af moet\", \"Dit artikel vind ik te groot om te verzenden dus haal hem maar op\", \"I think this article is too big to ship, so pick it up\",\"Prefer to ship only because of COVID-19\", \"Prefer to ship only because of Corona Virus\", \"Please ship because I have to get rid of boxes\", \"\"]\n",
    "    \n",
    "    stripChar = \"<\"\n",
    "    line = line[:line.index(stripChar) + len(stripChar)- 1]\n",
    "    line = line.replace(\"INSERT Items(ID,Titel,Categorie,Postcode,Locatie,Land,Verkoper,Prijs,Valuta,Conditie,Thumbnail,Beschrijving) VALUES \", \"\")\n",
    "    if line.endswith(\",'\"):\n",
    "        line = line[:-2]\n",
    "    if line.startswith(\"(\"):\n",
    "        line = line[1:]\n",
    "    line = line.replace(\"'\", \" \")\n",
    "    lines = line.split(\",\")\n",
    "    GeneratedDates = genereteRandomAuctionDates()\n",
    "    \n",
    "\n",
    "    Title = lines[1]\n",
    "    Description = description\n",
    "    City = lines[4].replace(\" \", \"\")\n",
    "    CountryID = getCountryIDByCode(lines[5], cursor)\n",
    "    StartingPrice = lines[7].replace(\" \", \"\")\n",
    "    StartDate = GeneratedDates[0]\n",
    "    EndDate = GeneratedDates[1]\n",
    "    PaymentMethod = random.choice(paymentMethodsArray)\n",
    "    PaymentInstructions = random.choice(paymentInstructionsArray)\n",
    "    ShippingCosts = random.choice(shippingCostsArray)\n",
    "    SendInstructions = random.choice(sendInstructionsArray)\n",
    "    SellerID = getSellerIDByUsername(lines[6], cursor, True)\n",
    "    CategoryID = lines[2].replace(\" \", \"\")\n",
    "    Thumbnail = lines [10].replace(\" \", \"\")\n",
    "    ConditionID = searchForConditionOrCreate(lines[9], cursor)\n",
    "    Currency = lines[8].replace(\" \", \"\")\n",
    "                                                                                                                                                                                                                                                                \n",
    "    sql = \"INSERT INTO Item (Title, Description, City, CountryID, StartingPrice, StartDate, EndDate, PaymentMethod, PaymentInstructions, ShippingCosts, SendInstructions, SellerID, CategoryID, Thumbnail, ConditionID, Currency ) OUTPUT INSERTED.IDVALUES ('\"+ str(Title)+\"', '\"+ str(Description)+\"','\"+ str(City)+\"',\"+ str(CountryID)+\",'\"+ str(StartingPrice)+\"','\"+ str(StartDate)+\"','\"+ str(EndDate)+\"','\"+ str(PaymentMethod)+\"','\"+ str(PaymentInstructions)+\"','\"+ str(ShippingCosts)+\"','\"+ str(SendInstructions)+\"',\"+ str(SellerID)+\",\"+ str(CategoryID)+\",'\"+ str(Thumbnail)+\"',\"+ str(ConditionID)+\",'\"+ str(Currency)+\"')\"\n",
    "    return sql"
   ]
  },
  {
   "cell_type": "code",
   "execution_count": 19,
   "metadata": {},
   "outputs": [],
   "source": [
    "def getFileQuery(line, ItemID):\n",
    "    line = line.replace(\"INSERT Illustraties (ItemID,IllustratieFile) VALUES (\", \"\")\n",
    "    line = line.replace(\")\", \"\")\n",
    "    line = line.replace(\"'\", \"\")\n",
    "    line = line.split(\",\")\n",
    "    sql = \"INSERT INTO [File] (FileName, ItemID) VALUES ('/pics/\"+ str(line[1]) + \"',\" + str(ItemID) + \")\"\n",
    "    return sql"
   ]
  },
  {
   "cell_type": "code",
   "execution_count": 25,
   "metadata": {},
   "outputs": [],
   "source": [
    "def main():\n",
    "    cursor = makeConnection()\n",
    "    sqlFileArray = loadSQLFile(\"SQL/14616-Games en consoles/11046-PC games.sql\")\n",
    "    ItemID = 0\n",
    "    for line in sqlFileArray:\n",
    "        if(\"INSERT Items(\" in line):\n",
    "            sleep(1)\n",
    "            description = getDescription(line)\n",
    "            query = getItemQuery(line, description, cursor)\n",
    "            ItemID = doInsertQueryAndGetID(query, cursor)\n",
    "            print(\"[SUCCESS] - Added Item\")\n",
    "        elif(\"INSERT Illustraties (\" in line):\n",
    "            sleep(1)\n",
    "            query = getFileQuery(line, ItemID)\n",
    "            doInsertQuery(query, cursor)\n",
    "            print(\"[SUCCESS] - Added File\")\n",
    "        \n",
    "       \n",
    "    closeConnection(cursor)\n",
    "    print(\"Klaar!\")\n",
    "        "
   ]
  },
  {
   "cell_type": "code",
   "execution_count": 32,
   "metadata": {},
   "outputs": [
    {
     "name": "stdout",
     "output_type": "stream",
     "text": [
      "substring not found\n"
     ]
    },
    {
     "ename": "ValueError",
     "evalue": "substring not found",
     "output_type": "error",
     "traceback": [
      "\u001b[1;31m---------------------------------------------------------------------------\u001b[0m",
      "\u001b[1;31mValueError\u001b[0m                                Traceback (most recent call last)",
      "\u001b[1;32m<ipython-input-32-972361fa1b80>\u001b[0m in \u001b[0;36m<module>\u001b[1;34m\u001b[0m\n\u001b[0;32m      1\u001b[0m \u001b[1;32mif\u001b[0m \u001b[0m__name__\u001b[0m \u001b[1;33m==\u001b[0m \u001b[1;34m\"__main__\"\u001b[0m\u001b[1;33m:\u001b[0m\u001b[1;33m\u001b[0m\u001b[1;33m\u001b[0m\u001b[0m\n\u001b[1;32m----> 2\u001b[1;33m     \u001b[0mmain\u001b[0m\u001b[1;33m(\u001b[0m\u001b[1;33m)\u001b[0m\u001b[1;33m\u001b[0m\u001b[1;33m\u001b[0m\u001b[0m\n\u001b[0m",
      "\u001b[1;32m<ipython-input-25-4ef3cd6c3e84>\u001b[0m in \u001b[0;36mmain\u001b[1;34m()\u001b[0m\n\u001b[0;32m      7\u001b[0m             \u001b[0msleep\u001b[0m\u001b[1;33m(\u001b[0m\u001b[1;36m1\u001b[0m\u001b[1;33m)\u001b[0m\u001b[1;33m\u001b[0m\u001b[1;33m\u001b[0m\u001b[0m\n\u001b[0;32m      8\u001b[0m             \u001b[0mdescription\u001b[0m \u001b[1;33m=\u001b[0m \u001b[0mgetDescription\u001b[0m\u001b[1;33m(\u001b[0m\u001b[0mline\u001b[0m\u001b[1;33m)\u001b[0m\u001b[1;33m\u001b[0m\u001b[1;33m\u001b[0m\u001b[0m\n\u001b[1;32m----> 9\u001b[1;33m             \u001b[0mquery\u001b[0m \u001b[1;33m=\u001b[0m \u001b[0mgetItemQuery\u001b[0m\u001b[1;33m(\u001b[0m\u001b[0mline\u001b[0m\u001b[1;33m,\u001b[0m \u001b[0mdescription\u001b[0m\u001b[1;33m,\u001b[0m \u001b[0mcursor\u001b[0m\u001b[1;33m)\u001b[0m\u001b[1;33m\u001b[0m\u001b[1;33m\u001b[0m\u001b[0m\n\u001b[0m\u001b[0;32m     10\u001b[0m             \u001b[0mItemID\u001b[0m \u001b[1;33m=\u001b[0m \u001b[0mdoInsertQueryAndGetID\u001b[0m\u001b[1;33m(\u001b[0m\u001b[0mquery\u001b[0m\u001b[1;33m,\u001b[0m \u001b[0mcursor\u001b[0m\u001b[1;33m)\u001b[0m\u001b[1;33m\u001b[0m\u001b[1;33m\u001b[0m\u001b[0m\n\u001b[0;32m     11\u001b[0m             \u001b[0mprint\u001b[0m\u001b[1;33m(\u001b[0m\u001b[1;34m\"[SUCCESS] - Added Item\"\u001b[0m\u001b[1;33m)\u001b[0m\u001b[1;33m\u001b[0m\u001b[1;33m\u001b[0m\u001b[0m\n",
      "\u001b[1;32m<ipython-input-24-dc14f5e3e9f8>\u001b[0m in \u001b[0;36mgetItemQuery\u001b[1;34m(line, description, cursor)\u001b[0m\n\u001b[0;32m      7\u001b[0m \u001b[1;33m\u001b[0m\u001b[0m\n\u001b[0;32m      8\u001b[0m     \u001b[0mstripChar\u001b[0m \u001b[1;33m=\u001b[0m \u001b[1;34m\"<\"\u001b[0m\u001b[1;33m\u001b[0m\u001b[1;33m\u001b[0m\u001b[0m\n\u001b[1;32m----> 9\u001b[1;33m     \u001b[0mline\u001b[0m \u001b[1;33m=\u001b[0m \u001b[0mline\u001b[0m\u001b[1;33m[\u001b[0m\u001b[1;33m:\u001b[0m\u001b[0mline\u001b[0m\u001b[1;33m.\u001b[0m\u001b[0mindex\u001b[0m\u001b[1;33m(\u001b[0m\u001b[0mstripChar\u001b[0m\u001b[1;33m)\u001b[0m \u001b[1;33m+\u001b[0m \u001b[0mlen\u001b[0m\u001b[1;33m(\u001b[0m\u001b[0mstripChar\u001b[0m\u001b[1;33m)\u001b[0m\u001b[1;33m-\u001b[0m \u001b[1;36m1\u001b[0m\u001b[1;33m]\u001b[0m\u001b[1;33m\u001b[0m\u001b[1;33m\u001b[0m\u001b[0m\n\u001b[0m\u001b[0;32m     10\u001b[0m     \u001b[0mline\u001b[0m \u001b[1;33m=\u001b[0m \u001b[0mline\u001b[0m\u001b[1;33m.\u001b[0m\u001b[0mreplace\u001b[0m\u001b[1;33m(\u001b[0m\u001b[1;34m\"INSERT Items(ID,Titel,Categorie,Postcode,Locatie,Land,Verkoper,Prijs,Valuta,Conditie,Thumbnail,Beschrijving) VALUES \"\u001b[0m\u001b[1;33m,\u001b[0m \u001b[1;34m\"\"\u001b[0m\u001b[1;33m)\u001b[0m\u001b[1;33m\u001b[0m\u001b[1;33m\u001b[0m\u001b[0m\n\u001b[0;32m     11\u001b[0m     \u001b[1;32mif\u001b[0m \u001b[0mline\u001b[0m\u001b[1;33m.\u001b[0m\u001b[0mendswith\u001b[0m\u001b[1;33m(\u001b[0m\u001b[1;34m\",'\"\u001b[0m\u001b[1;33m)\u001b[0m\u001b[1;33m:\u001b[0m\u001b[1;33m\u001b[0m\u001b[1;33m\u001b[0m\u001b[0m\n",
      "\u001b[1;31mValueError\u001b[0m: substring not found"
     ]
    }
   ],
   "source": [
    "if __name__ == \"__main__\":\n",
    "    main()"
   ]
  },
  {
   "cell_type": "code",
   "execution_count": null,
   "metadata": {},
   "outputs": [],
   "source": [
    "cursor = makeConnection()\n",
    "closeConnection(cursor)"
   ]
  },
  {
   "cell_type": "code",
   "execution_count": null,
   "metadata": {},
   "outputs": [],
   "source": [
    "#print(genereteRandomAuctionDates())"
   ]
  },
  {
   "cell_type": "code",
   "execution_count": null,
   "metadata": {},
   "outputs": [],
   "source": []
  }
 ],
 "metadata": {
  "kernelspec": {
   "display_name": "Python 3",
   "language": "python",
   "name": "python3"
  },
  "language_info": {
   "codemirror_mode": {
    "name": "ipython",
    "version": 3
   },
   "file_extension": ".py",
   "mimetype": "text/x-python",
   "name": "python",
   "nbconvert_exporter": "python",
   "pygments_lexer": "ipython3",
   "version": "3.7.5"
  }
 },
 "nbformat": 4,
 "nbformat_minor": 4
}
