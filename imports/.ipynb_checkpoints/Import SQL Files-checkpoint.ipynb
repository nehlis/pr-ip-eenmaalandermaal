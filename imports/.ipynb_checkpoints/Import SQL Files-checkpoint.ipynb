{
 "cells": [
  {
   "cell_type": "code",
   "execution_count": 1,
   "metadata": {},
   "outputs": [],
   "source": [
    "import pyodbc, json, requests\n",
    "import random\n",
    "import datetime\n",
    "from random import randint\n",
    "from random import randrange\n",
    "from time import sleep\n",
    "import bcrypt"
   ]
  },
  {
   "cell_type": "code",
   "execution_count": 2,
   "metadata": {},
   "outputs": [],
   "source": [
    "server = 'iproject3.icasites.nl' \n",
    "database = 'iproject3' \n",
    "username = 'iproject3' \n",
    "password = 'aeedZ8u8'\n"
   ]
  },
  {
   "cell_type": "code",
   "execution_count": 3,
   "metadata": {},
   "outputs": [],
   "source": [
    "def main():\n",
    "    # Open and read the file as a single buffer\n",
    "    fd = open('SQL/260-Postzegels/CREATE Users.sql', 'r')\n",
    "    sqlFile = fd.read()\n",
    "    fd.close()\n",
    "\n",
    "    sqlFileArray = sqlFile.splitlines()\n",
    "\n",
    "    for sql in sqlFileArray:\n",
    "        sql = sql.replace(\"Users\", \"Account\")\n",
    "        sql = sql.replace(\"Postalcode\", \"Zipcode\")\n",
    "        sql = sql.replace(\"Location\", \"City\")\n",
    "        \n",
    "        print(sql)\n",
    "        return\n",
    "\n",
    "    print(\"klaar\")\n",
    "\n"
   ]
  },
  {
   "cell_type": "code",
   "execution_count": 4,
   "metadata": {},
   "outputs": [],
   "source": [
    "def phn():\n",
    "    n = '0000000000'\n",
    "    while '9' in n[3:6] or n[3:6]=='000' or n[6]==n[7]==n[8]==n[9]:\n",
    "        n = str(random.randint(10**9, 10**10-1))\n",
    "    return '06' + n[2:]"
   ]
  },
  {
   "cell_type": "code",
   "execution_count": 5,
   "metadata": {},
   "outputs": [],
   "source": [
    "def runSQL(sql):\n",
    "    try: \n",
    "        cursor.execute(sql)\n",
    "        cnxn.commit()\n",
    "        #print(\"inserted\")\n",
    "    except Exception as e:\n",
    "        print(\"runSQL: \", e)\n",
    "        pass"
   ]
  },
  {
   "cell_type": "code",
   "execution_count": 6,
   "metadata": {},
   "outputs": [],
   "source": [
    "def VoegTelefoonNummerToe(AccountID, Nummer, cnxn, cursor):\n",
    "    try: \n",
    "        cursor.execute(\"INSERT INTO Phonenumber (AccountID, Phonenumber) VALUES ('\"+str(AccountID)+\"', '\"+str(Nummer)+\"')\")\n",
    "        cnxn.commit()\n",
    "    except Exception as e:\n",
    "        print(\"VoegTelefoonNummerToe\", e)\n",
    "        pass"
   ]
  },
  {
   "cell_type": "code",
   "execution_count": null,
   "metadata": {},
   "outputs": [],
   "source": [
    "def MaakAccountAan():\n",
    "    # Open and read the file as a single buffer\n",
    "    fd = open('SQL/260-Postzegels/CREATE Users.sql', 'r')\n",
    "    sqlFile = fd.read()\n",
    "    fd.close()\n",
    "\n",
    "    sqlFileArray = sqlFile.splitlines()\n",
    "    count = 0\n",
    "    for sql in sqlFileArray:\n",
    "        cnxn = pyodbc.connect('DRIVER={ODBC Driver 17 for SQL Server};SERVER='+server+';DATABASE='+database+';UID='+username+';PWD='+ password)\n",
    "        cursor = cnxn.cursor()    \n",
    "        print(\"Connectie gemaakt!\")\n",
    "        \n",
    "        sql = sql.replace(\"Users\", \"Account\")\n",
    "        sql = sql.replace(\"Postalcode\", \"Zipcode\")\n",
    "        sql = sql.replace(\"Location\", \"City\")\n",
    "        sql = sql.replace(\"Country\", \"CountryID\")\n",
    "        sql = sql.replace(\"VALUES\", \"OUTPUT INSERTED.ID VALUES\")\n",
    "        sql = sql.replace(\"'NL'\", \"'159'\")\n",
    "        sql = sql.replace(\"'GB'\", \"'242'\")\n",
    "        sql = sql.replace(\"'DE'\", \"'63'\")\n",
    "        sql = sql.replace(\"'BE'\", \"'26'\")\n",
    "        sql = sql.replace(\"'AT'\", \"'175'\")\n",
    "        sql = sql.replace(\"'FR'\", \"'76'\")\n",
    "        sql = sql.replace(\"'US'\", \"'241'\")\n",
    "        sql = sql.replace(\"'IT'\", \"'107'\")    \n",
    "        sql = sql.replace(\"'CA'\", \"'44'\")\n",
    "        sql = sql.replace(\"'EE'\", \"'69'\")\n",
    "        sql = sql.replace(\"'IN'\", \"'102'\")\n",
    "\n",
    "        #print(sql)\n",
    "        cursor.execute(sql)\n",
    "        AccountID = cursor.fetchone()[0]\n",
    "        cnxn.commit()\n",
    "\n",
    "        try: \n",
    "            Api = \"https://randomuser.me/api/?nat=NL\"\n",
    "            Result = requests.get(Api)\n",
    "            Json = Result.json()\n",
    "            sleep(1)\n",
    "\n",
    "            ## Doe je ding\n",
    "            Email = Json['results'][0]['email']\n",
    "            FirstName = Json['results'][0]['name']['first']\n",
    "            LastName = Json['results'][0]['name']['last']\n",
    "            Password = str(Json['results'][0]['login']['password'])\n",
    "            Password = Password.encode(\"utf-8\")\n",
    "            Password = bcrypt.hashpw(Password, bcrypt.gensalt())\n",
    "            Street = Json['results'][0]['location']['street']['name']\n",
    "            HouseNumber = Json['results'][0]['location']['street']['number']\n",
    "            Country = Json['results'][0]['location']['country']\n",
    "            QuestionID = randrange(10, 18)\n",
    "            QuestionAnswer = Json['results'][0]['login']['salt']\n",
    "            Birthday = Json['results'][0]['dob']['date']\n",
    "            Blocked = 1\n",
    "\n",
    "            sql = \"UPDATE Account SET Email = '\" + str(Email)+ \"', Firstname = '\" + str(FirstName)+ \"', Lastname = '\" + str(LastName)+ \"', Password = '\" + str(Password.decode(\"utf-8\")) + \"', Street = '\" + str(Street)+ \"', Housenumber = '\" + str(HouseNumber)+ \"', QuestionID = '\" + str(QuestionID)+ \"', QuestionAnswer = '\" + str(QuestionAnswer)+ \"', Birthdate = '\" + str(Birthday[:10])+ \"', Blocked = '\" + str(Blocked)+ \"' WHERE ID = \"+ str(AccountID)\n",
    "            cursor.execute(sql)\n",
    "            cnxn.commit()\n",
    "\n",
    "\n",
    "            Nummer = phn()\n",
    "            VoegTelefoonNummerToe(AccountID, Nummer, cnxn, cursor)\n",
    "            if(randrange(0, 3) == 1):\n",
    "                Nummer = phn()\n",
    "                VoegTelefoonNummerToe(AccountID, Nummer, cnxn, cursor)\n",
    "                \n",
    "                \n",
    "            print(\"Account toegevoegd!\")\n",
    "            cnxn.close()\n",
    "            print(\"Connectie verbroken!\")\n",
    "            \n",
    "        except Exception as e:\n",
    "            print(e)\n",
    "            cnxn.close()\n",
    "            print(\"Connectie verbroken!\")\n",
    "            pass\n"
   ]
  },
  {
   "cell_type": "code",
   "execution_count": null,
   "metadata": {},
   "outputs": [],
   "source": [
    "MaakAccountAan()"
   ]
  },
  {
   "cell_type": "code",
   "execution_count": null,
   "metadata": {},
   "outputs": [],
   "source": [
    "cnxn.close()"
   ]
  },
  {
   "cell_type": "code",
   "execution_count": null,
   "metadata": {},
   "outputs": [],
   "source": []
  },
  {
   "cell_type": "code",
   "execution_count": null,
   "metadata": {},
   "outputs": [],
   "source": []
  }
 ],
 "metadata": {
  "kernelspec": {
   "display_name": "Python 3",
   "language": "python",
   "name": "python3"
  },
  "language_info": {
   "codemirror_mode": {
    "name": "ipython",
    "version": 3
   },
   "file_extension": ".py",
   "mimetype": "text/x-python",
   "name": "python",
   "nbconvert_exporter": "python",
   "pygments_lexer": "ipython3",
   "version": "3.8.6"
  }
 },
 "nbformat": 4,
 "nbformat_minor": 4
}
