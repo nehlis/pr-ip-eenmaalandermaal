{
 "cells": [
  {
   "cell_type": "code",
   "execution_count": 1,
   "metadata": {},
   "outputs": [],
   "source": [
    "import pyodbc, json, requests, random, lxml\n",
    "from time import sleep\n",
    "from io import StringIO\n",
    "from random import randint\n",
    "from random import randrange\n",
    "from html.parser import HTMLParser\n",
    "from faker import Faker\n",
    "import re\n",
    "from lxml.html.clean import Cleaner"
   ]
  },
  {
   "cell_type": "code",
   "execution_count": 2,
   "metadata": {},
   "outputs": [],
   "source": [
    "##HOST SERVER\n",
    "server = 'iproject3.icasites.nl' \n",
    "database = 'iproject3' \n",
    "username = 'iproject3' \n",
    "password = 'aeedZ8u8'\n",
    "\n",
    "##LOCAL SERVER\n",
    "#server = 'localhost' \n",
    "#database = 'school' \n",
    "#username = 'SA' \n",
    "#password = 'yourStrong(!)Password'\n",
    "\n",
    "cleaner = Cleaner()\n",
    "cleaner.javascript = True # This is True because we want to activate the javascript filter\n",
    "cleaner.style = True      # This is True because we want to activate the styles & stylesheet filter\n",
    "cleaner.remove_tags=('span', 'font', 'div', 'p', 'div')"
   ]
  },
  {
   "cell_type": "code",
   "execution_count": 3,
   "metadata": {},
   "outputs": [],
   "source": [
    "def addRowToFile(text):\n",
    "    f = open(\"SQL-IMPORT-Items.txt\", \"a\")\n",
    "    f.write(str(text) + \"\\n\")\n",
    "    f.close()\n",
    "    return"
   ]
  },
  {
   "cell_type": "code",
   "execution_count": 4,
   "metadata": {},
   "outputs": [],
   "source": [
    "def makeConnection():\n",
    "    cnxn = pyodbc.connect('DRIVER={ODBC Driver 17 for SQL Server};SERVER='+server+';DATABASE='+database+';UID='+username+';PWD='+ password)\n",
    "    cursor = cnxn.cursor() \n",
    "    return cursor"
   ]
  },
  {
   "cell_type": "code",
   "execution_count": 5,
   "metadata": {},
   "outputs": [],
   "source": [
    "def closeConnection(cursor):\n",
    "    cursor.close()\n",
    "    return"
   ]
  },
  {
   "cell_type": "code",
   "execution_count": 6,
   "metadata": {},
   "outputs": [],
   "source": [
    "def doSelectQuery(sql, cursor):\n",
    "    cursor.execute(sql)\n",
    "    return cursor.fetchall()"
   ]
  },
  {
   "cell_type": "code",
   "execution_count": 7,
   "metadata": {},
   "outputs": [],
   "source": [
    "def doInsertQuery(sql, cursor):\n",
    "    cursor.execute(sql)\n",
    "    cursor.commit()\n",
    "    return"
   ]
  },
  {
   "cell_type": "code",
   "execution_count": 8,
   "metadata": {},
   "outputs": [],
   "source": [
    "def doInsertQueryAndGetID(sql, cursor):\n",
    "    cursor.execute(sql)\n",
    "    ID = cursor.fetchone()[0]\n",
    "    cursor.commit()\n",
    "    return ID"
   ]
  },
  {
   "cell_type": "code",
   "execution_count": 9,
   "metadata": {},
   "outputs": [],
   "source": [
    "def registerAsSellerByAccountID(ID, cursor):\n",
    "\n",
    "    mastercardPrefixList = [['5', '1'], ['5', '2'], ['5', '3'], ['5', '4'], ['5', '5']]\n",
    "    DutchBanken = [\"ABN Amro\", \"ASN Bank\", \"Bunq\", \"DHB Bank\", \"ING Bank\", \"Knab\", \"Rabobank\", \"SNS Bank\", \"Triodos Bank\"]\n",
    "    BillingNumbers = [\"NL59INGB3034565194\",\"NL91INGB6971032004\",\"NL13INGB2327776783\",\"NL24ABNA8502137913\",\"NL79ABNA6502761380\",\"NL95RABO2560035731\",\"NL06ABNA8009649546\",\"NL51ABNA7103072574\",\"NL92RABO7939901389\",\"NL83INGB2786219639\",\"NL35ABNA9732254661\",\"NL16RABO8611765885\",\"NL36RABO6008851617\",\"NL12RABO2952671982\",\"NL28INGB6291533782\",\"NL63INGB3779588560\",\"NL46RABO7116259503\",\"NL63RABO4760808973\",\"NL51ABNA5993159871\",\"NL98ABNA1438227787\",\"NL68RABO3031628489\",\"NL22INGB9565235778\",\"NL82ABNA2187209016\",\"NL93RABO5040995164\",\"NL26INGB4871952010\",\"NL89ABNA3034565194\",\"NL41INGB8683750361\",\"NL89INGB6034837898\",\"NL13ABNA7569006453\",\"NL89ABNA9906008334\",\"NL36ABNA8694866803\",\"NL65RABO7440639480\",\"NL73INGB6143727961\",\"NL82INGB4197809344\",\"NL71RABO7659536168\",\"NL98ABNA9442141368\",\"NL66RABO6971032004\",\"NL58RABO6583086565\",\"NL27INGB5647918042\",\"NL62INGB2067756052\",\"NL32ABNA3146454459\",\"NL18RABO8253182457\",\"NL96INGB8720446314\",\"NL89ABNA3309755649\",\"NL40ABNA9859479577\",\"NL66INGB9224568173\",\"NL76RABO8675663943\",\"NL34INGB4520711568\"]\n",
    "    Bankname = random.choice(DutchBanken)\n",
    "    BankAccountNumber = random.choice(BillingNumbers)\n",
    "    ControlOptionName = \"Creditcard\"\n",
    "    CreditcardNumber = generateCard(\"mastercard\")\n",
    "\n",
    "    sql = \"INSERT INTO Seller (AccountID, Bankname, BankAccountNumber, CreditcardNumber, ControlOptionName) VALUES ('\"+str(ID)+\"', '\"+str(Bankname)+\"', '\"+str(BankAccountNumber)+\"', '\"+str(CreditcardNumber)+\"', '\"+str(ControlOptionName)+\"')\"\n",
    "    \n",
    "    f = open(\"SQL-IMPORT-SELLER.txt\", \"a\")\n",
    "    f.write(sql + \"\\n\")\n",
    "    f.close()\n",
    "    return\n"
   ]
  },
  {
   "cell_type": "code",
   "execution_count": 10,
   "metadata": {},
   "outputs": [],
   "source": [
    "def genereteRandomAuctionDates():\n",
    "    fake = Faker()\n",
    "    \n",
    "    begindate = fake.date_time_between(start_date='-'+ str(random.randint(0, 20)) +'d', end_date='now')\n",
    "    enddate = fake.date_time_between(start_date=begindate, end_date='+'+ str(random.randint(0, 80)) +'d')\n",
    "\n",
    "    return begindate.strftime(\"%Y-%m-%d  %H:%M:%S.000\"), enddate.strftime(\"%Y-%m-%d  %H:%M:%S.000\")"
   ]
  },
  {
   "cell_type": "code",
   "execution_count": 11,
   "metadata": {},
   "outputs": [],
   "source": [
    "def generateCard(type):\n",
    "    \"\"\"\n",
    "    Prefill some values based on the card type\n",
    "    \"\"\"\n",
    "    card_types = [\"americanexpress\",\"visa13\", \"visa16\",\"mastercard\",\"discover\"]\n",
    "\n",
    "    def prefill(t):\n",
    "        # typical number of digits in credit card\n",
    "        def_length = 16\n",
    "\n",
    "        \"\"\"\n",
    "        Prefill with initial numbers and return it including the total number of digits\n",
    "        remaining to fill\n",
    "        \"\"\"\n",
    "        if t == card_types[0]:\n",
    "            # american express starts with 3 and is 15 digits long\n",
    "            # override the def lengths\n",
    "            return [3, randint(4,7)], 13\n",
    "\n",
    "        elif t == card_types[1] or t == card_types[2]:\n",
    "            # visa starts with 4\n",
    "            if t.endswith(\"16\"):\n",
    "                return [4], def_length - 1\n",
    "            else:\n",
    "                return [4], 12\n",
    "\n",
    "        elif t == card_types[3]:\n",
    "            # master card start with 5 and is 16 digits long\n",
    "            return [5, randint(1,5)], def_length - 2\n",
    "\n",
    "        elif t == card_types[4]:\n",
    "            # discover card starts with 6011 and is 16 digits long\n",
    "            return [6, 0, 1, 1], def_length - 4\n",
    "\n",
    "        else:\n",
    "            # this section probably not even needed here\n",
    "            return [], def_length\n",
    "\n",
    "    def finalize(nums):\n",
    "        \"\"\"\n",
    "        Make the current generated list pass the Luhn check by checking and adding\n",
    "        the last digit appropriately bia calculating the check sum\n",
    "        \"\"\"\n",
    "        check_sum = 0\n",
    "\n",
    "        #is_even = True if (len(nums) + 1 % 2) == 0 else False\n",
    "\n",
    "        \"\"\"\n",
    "        Reason for this check offset is to figure out whether the final list is going\n",
    "        to be even or odd which will affect calculating the check_sum.\n",
    "        This is mainly also to avoid reversing the list back and forth which is specified\n",
    "        on the Luhn algorithm.\n",
    "        \"\"\"\n",
    "        check_offset = (len(nums) + 1) % 2\n",
    "\n",
    "        for i, n in enumerate(nums):\n",
    "            if (i + check_offset) % 2 == 0:\n",
    "                n_ = n*2\n",
    "                check_sum += n_ -9 if n_ > 9 else n_\n",
    "            else:\n",
    "                check_sum += n\n",
    "        return nums + [10 - (check_sum % 10) ]\n",
    "\n",
    "    # main body\n",
    "    t = type.lower()\n",
    "    if t not in card_types:\n",
    "        return\n",
    "\n",
    "    initial, rem = prefill(t)\n",
    "    so_far = initial + [randint(1,9) for x in range(rem - 1)]\n",
    "    #print (\"\".join(map(str,finalize(so_far))))\n",
    "    return \"\".join(map(str,finalize(so_far)))\n"
   ]
  },
  {
   "cell_type": "code",
   "execution_count": 12,
   "metadata": {},
   "outputs": [],
   "source": [
    "def searchForConditionOrCreate(condition, cursor):\n",
    "    \n",
    "    sql = \"SELECT * FROM Condition WHERE Name = '\" + str(condition).replace(\" \", \"\") + \"'\"\n",
    "    result = doSelectQuery(sql, cursor)\n",
    "    \n",
    "    if(result):\n",
    "        return result[0][0]\n",
    "    else:\n",
    "        sql = \"INSERT INTO Condition (Name) OUTPUT INSERTED.ID VALUES ('\" + str(condition).replace(\" \", \"\") + \"')\"\n",
    "        result = doInsertQueryAndGetID(sql, cursor)\n",
    "        return result"
   ]
  },
  {
   "cell_type": "code",
   "execution_count": 13,
   "metadata": {},
   "outputs": [],
   "source": [
    "def getSellerIDByUsername(username, cursor, registerSeller):\n",
    "    sql = \"SELECT * FROM Account WHERE Username = '\" + str(username.replace(\" \", \"\")) + \"'\"\n",
    "    result = doSelectQuery(sql, cursor)\n",
    "    if(registerSeller == True):\n",
    "        registerAsSellerByAccountID(result[0][0], cursor)\n",
    "    return result[0][0]"
   ]
  },
  {
   "cell_type": "code",
   "execution_count": 14,
   "metadata": {},
   "outputs": [],
   "source": [
    "def getCountryIDByCode(code, cursor):\n",
    "    sql = \"SELECT * FROM Country WHERE CountryCode = '\" + str(code.replace(\" \", \"\")) + \"'\"\n",
    "    result = doSelectQuery(sql, cursor)\n",
    "    return result[0][0]"
   ]
  },
  {
   "cell_type": "code",
   "execution_count": 15,
   "metadata": {},
   "outputs": [],
   "source": [
    "def getCategoriesAndItemID(cursor):\n",
    "    SQL = \"SELECT ID, CategoryID FROM Item\"\n",
    "    result = doSelectQuery(SQL, cursor)\n",
    "    return result"
   ]
  },
  {
   "cell_type": "code",
   "execution_count": 16,
   "metadata": {},
   "outputs": [],
   "source": [
    "def transferItemDataColumnsAndCreateFile(row, cursor):\n",
    "    \n",
    "    paymentMethodsArray = [\"Contant\", \"Cash\", \"Bank\", \"Giro\", \"Tikkie\", \"Bank/Giro\", \"Contant, Bank, Giro\"]\n",
    "    paymentInstructionsArray = [\"Overschrijving moet ontvangen zijn binnen 10 dagen na verkoop.\", \"Het liefst alleen contant betalebn!\", \"Bied maar een leuk bedrag en dan mag je hem ophalen volgende de betaal methoden. Bij Contant kun je hem afhalen\", \"Payment only through Bank\", \"Only cash payment are allowed\"]\n",
    "    shippingCostsArray = [\"1.95\",\"2.95\",\"3.95\",\"4.95\",\"5.95\",\"6.95\",\"7.95\",\"8.95\",\"9.95\",\"10.95\",\"11.95\",\"12.95\", \"0\"]\n",
    "    sendInstructionsArray = [\"Liever alleen verzenden vanwege COVID-19\", \"Liever alleen verzenden vanwege Corona Virus\", \"Graag verzenden omdat ik van me dozen af moet\", \"Dit artikel vind ik te groot om te verzenden dus haal hem maar op\", \"I think this article is too big to ship, so pick it up\",\"Prefer to ship only because of COVID-19\", \"Prefer to ship only because of Corona Virus\", \"Please ship because I have to get rid of boxes\", \"\"]\n",
    "    \n",
    "    GeneratedDates = genereteRandomAuctionDates()\n",
    "    \n",
    "    \n",
    "    ID = row[0]\n",
    "    Title = row[1].replace(\"'\",\"\")\n",
    "    Description = descriptionCleaner(row[2])\n",
    "    City = row[5].replace(\" \", \"\").replace(\"'\",\"\")\n",
    "    CountryID = getCountryIDByCode(row[6], cursor)\n",
    "    StartingPrice = row[8].replace(\" \", \"\")\n",
    "    StartDate = GeneratedDates[0]\n",
    "    EndDate = GeneratedDates[1]\n",
    "    PaymentMethod = random.choice(paymentMethodsArray)\n",
    "    PaymentInstructions = random.choice(paymentInstructionsArray)\n",
    "    ShippingCosts = random.choice(shippingCostsArray)\n",
    "    SendInstructions = random.choice(sendInstructionsArray)\n",
    "    SellerID = getSellerIDByUsername(row[7], cursor, True)\n",
    "    ItemCategoryID = row[3]\n",
    "    Thumbnail = row[11]\n",
    "    ConditionID = searchForConditionOrCreate(row[10], cursor)\n",
    "    Currency = row[9]\n",
    "    \n",
    "    SQL = \"INSERT INTO Item (ID, Title, City, CountryID, StartingPrice, StartDate, EndDate, PaymentMethod, PaymentInstructions, ShippingCosts, SendInstructions, SellerID, CategoryID, Thumbnail, ConditionID, Currency, Description) VALUES (\" + str(ID) + \", '\" + str(Title) + \"','\" + str(City) + \"',\" + str(CountryID) + \",'\" + str(StartingPrice) + \"','\" + str(StartDate) + \"','\" + str(EndDate) + \"','\" + str(PaymentMethod) + \"','\" + str(PaymentInstructions) + \"','\" + str(ShippingCosts) + \"','\" + str(SendInstructions) + \"',\" + str(SellerID) + \",\" + str(ItemCategoryID) + \",'\" + str(Thumbnail) + \"',\" + str(ConditionID) + \",'\" + str(Currency) + \"','\" + str(Description) + \"')\"\n",
    "    addRowToFile(SQL)\n",
    "    #doInsertQuery(SQL, cursor)\n",
    "\n",
    "    return "
   ]
  },
  {
   "cell_type": "code",
   "execution_count": 17,
   "metadata": {},
   "outputs": [],
   "source": [
    "def transferFileDataColumnsAndCreateFile(row, cursor):\n",
    "    ItemID = row[0]\n",
    "    FileName = row[1]\n",
    "    \n",
    "    SQL = f\"INSERT INTO [File] (Name, ItemID) VALUES ('/pics/{FileName}',{ItemID})\"\n",
    "    \n",
    "    \n",
    "    f = open(\"SQL-IMPORT-Files.txt\", \"a\")\n",
    "    f.write(SQL + \"\\n\")\n",
    "    f.close()\n",
    "    #doInsertQuery(SQL, cursor)\n",
    "    return"
   ]
  },
  {
   "cell_type": "code",
   "execution_count": 23,
   "metadata": {},
   "outputs": [],
   "source": [
    "def transferCategoryDataColumnsAndCreateFile(row, cursor):\n",
    "    \n",
    "    ItemID = row[0]\n",
    "    CategoryID = row[1]\n",
    "    \n",
    "    SQL = f\"INSERT INTO CategoriesInItem (ItemID, CategoryID) VALUES ({ItemID},{CategoryID})\"\n",
    "    \n",
    "    \n",
    "    f = open(\"SQL-IMPORT-CAT.txt\", \"a\")\n",
    "    f.write(SQL + \"\\n\")\n",
    "    f.close()\n",
    "    \n",
    "    return"
   ]
  },
  {
   "cell_type": "code",
   "execution_count": 19,
   "metadata": {},
   "outputs": [],
   "source": [
    "class MLStripper(HTMLParser):\n",
    "    def __init__(self):\n",
    "        super().__init__()\n",
    "        self.reset()\n",
    "        self.strict = False\n",
    "        self.convert_charrefs= True\n",
    "        self.text = StringIO()\n",
    "    def handle_data(self, d):\n",
    "        self.text.write(d)\n",
    "    def get_data(self):\n",
    "        return self.text.getvalue()\n",
    "\n",
    "def strip_tags(html):\n",
    "    s = MLStripper()\n",
    "    s.feed(html)\n",
    "    return s.get_data()"
   ]
  },
  {
   "cell_type": "code",
   "execution_count": 20,
   "metadata": {},
   "outputs": [],
   "source": [
    "def descriptionCleaner(description):\n",
    "    re_script = re.compile('<\\s*script[^>]*>.*?<\\s*/\\s*script\\s*>', re.S | re.I)\n",
    "    css_script = re.compile('<\\s*style[^>]*>.*?<\\s*/\\s*style\\s*>', re.S | re.I)\n",
    "    description = \" \".join(description.split())\n",
    "    description = description.rstrip()\n",
    "    description = strip_tags(description)\n",
    "    try:\n",
    "        description = cleaner.clean_html(description)\n",
    "    except: \n",
    "        pass\n",
    "    \n",
    "    description = re_script.sub('',description)\n",
    "    description = css_script.sub('',description)\n",
    "    \n",
    "    description = re.sub(' +', ' ', description)\n",
    "    description = description.replace('\\n',' ')\n",
    "    description = description.replace('/n',' ')\n",
    "    description = description.replace(\"'\",\"\")\n",
    "    description = description.replace(\"amp;\", \"\")\n",
    "    description = description.replace('\\t',' ')\n",
    "    description = description.replace(\"   \", \" \")\n",
    "    description = description.replace(\"<div>\", \"\")\n",
    "    description = description.replace(\"</div>\", \"\")\n",
    "    description = description.replace(\"Your browser does not support JavaScript. To view this page, enable JavaScript if it is disabled or upgrade your browser.\", \"\")\n",
    "    #print(description)\n",
    "    return description\n",
    "    "
   ]
  },
  {
   "cell_type": "code",
   "execution_count": null,
   "metadata": {},
   "outputs": [],
   "source": []
  },
  {
   "cell_type": "code",
   "execution_count": null,
   "metadata": {},
   "outputs": [],
   "source": []
  },
  {
   "cell_type": "code",
   "execution_count": null,
   "metadata": {},
   "outputs": [],
   "source": []
  },
  {
   "cell_type": "code",
   "execution_count": null,
   "metadata": {},
   "outputs": [],
   "source": []
  },
  {
   "cell_type": "code",
   "execution_count": null,
   "metadata": {},
   "outputs": [],
   "source": []
  },
  {
   "cell_type": "code",
   "execution_count": 21,
   "metadata": {},
   "outputs": [],
   "source": [
    "def main():\n",
    "    cursor = makeConnection()\n",
    "    categories = getCategoriesAndItemID(cursor)\n",
    "    \n",
    "    print(\"Starting...\")\n",
    "    for category in categories:\n",
    "        transferCategoryDataColumnsAndCreateFile(category, cursor)\n",
    "    \n",
    "    #print(\"Starting with Items...\")\n",
    "    #count = 0 \n",
    "    #doInsertQuery(\"SET IDENTITY_INSERT Item ON\", cursor)\n",
    "    #for item in items:\n",
    "    #    transferItemDataColumnsAndCreateFile(item, cursor)    \n",
    "    #print(\"Items and Sellers in TXT!\")\n",
    "    \n",
    "    #print(\"Starting with Files...\")\n",
    "    #files = doSelectQuery(\"SELECT * FROM Illustraties_OLD\",cursor)  \n",
    "    #for file in files:\n",
    "    #    transferFileDataColumnsAndCreateFile(file, cursor)\n",
    "    #print(\"Files in TXT!\")\n",
    "    \n",
    "    closeConnection(cursor)\n",
    "    print(\"Klaar!\")\n",
    "        "
   ]
  },
  {
   "cell_type": "code",
   "execution_count": 24,
   "metadata": {},
   "outputs": [
    {
     "name": "stdout",
     "output_type": "stream",
     "text": [
      "Starting...\n",
      "Klaar!\n"
     ]
    }
   ],
   "source": [
    "if __name__ == \"__main__\":\n",
    "    main()"
   ]
  },
  {
   "cell_type": "code",
   "execution_count": null,
   "metadata": {},
   "outputs": [],
   "source": []
  }
 ],
 "metadata": {
  "kernelspec": {
   "display_name": "Python 3",
   "language": "python",
   "name": "python3"
  },
  "language_info": {
   "codemirror_mode": {
    "name": "ipython",
    "version": 3
   },
   "file_extension": ".py",
   "mimetype": "text/x-python",
   "name": "python",
   "nbconvert_exporter": "python",
   "pygments_lexer": "ipython3",
   "version": "3.8.6"
  }
 },
 "nbformat": 4,
 "nbformat_minor": 4
}
